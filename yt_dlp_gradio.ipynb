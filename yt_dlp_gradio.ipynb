{
  "nbformat": 4,
  "nbformat_minor": 0,
  "metadata": {
    "colab": {
      "provenance": [],
      "authorship_tag": "ABX9TyPLiLNs/YOThVFOUpN3nsYL",
      "include_colab_link": true
    },
    "kernelspec": {
      "name": "python3",
      "display_name": "Python 3"
    },
    "language_info": {
      "name": "python"
    }
  },
  "cells": [
    {
      "cell_type": "markdown",
      "metadata": {
        "id": "view-in-github",
        "colab_type": "text"
      },
      "source": [
        "<a href=\"https://colab.research.google.com/github/Leon-Av/yt-dlp_gradio-colab/blob/main/yt_dlp_gradio.ipynb\" target=\"_parent\"><img src=\"https://colab.research.google.com/assets/colab-badge.svg\" alt=\"Open In Colab\"/></a>"
      ]
    },
    {
      "cell_type": "code",
      "execution_count": null,
      "metadata": {
        "id": "FdVMVjY4kZNK"
      },
      "outputs": [],
      "source": [
        "# Установка необходимых пакетов\n",
        "!pip install yt-dlp gradio\n",
        "!sudo apt update\n",
        "!sudo apt install -y ffmpeg\n",
        "\n",
        "import gradio as gr\n",
        "import os\n",
        "from yt_dlp import YoutubeDL\n",
        "\n",
        "# Создаем папку для загрузок\n",
        "download_folder = \"/content/downloads\"\n",
        "os.makedirs(download_folder, exist_ok=True)\n",
        "\n",
        "def download_video(url):\n",
        "    ydl_opts = {\n",
        "        'format': 'bestvideo[ext=mp4]+bestaudio[ext=m4a]/best[ext=mp4]/best',\n",
        "        'outtmpl': f'{download_folder}/%(title)s.%(ext)s',\n",
        "        'merge_output_format': 'mp4',\n",
        "    }\n",
        "\n",
        "    try:\n",
        "        with YoutubeDL(ydl_opts) as ydl:\n",
        "            info = ydl.extract_info(url, download=True)\n",
        "            filename = ydl.prepare_filename(info)\n",
        "            return filename\n",
        "    except Exception as e:\n",
        "        return str(e)\n",
        "\n",
        "# Функция для очистки старых файлов\n",
        "def cleanup():\n",
        "    for file in os.listdir(download_folder):\n",
        "        file_path = os.path.join(download_folder, file)\n",
        "        try:\n",
        "            if os.path.isfile(file_path):\n",
        "                os.unlink(file_path)\n",
        "        except Exception as e:\n",
        "            print(f'Ошибка при удалении {file_path}: {e}')\n",
        "\n",
        "# Создаем интерфейс Gradio\n",
        "with gr.Blocks() as demo:\n",
        "    gr.Markdown(\"## YouTube Video Downloader\")\n",
        "    with gr.Row():\n",
        "        url_input = gr.Textbox(label=\"URL\")\n",
        "    with gr.Row():\n",
        "        download_button = gr.Button(\"Скачать/Download\")\n",
        "    with gr.Row():\n",
        "        file_output = gr.File(label=\"Downloaded File\")\n",
        "\n",
        "    download_button.click(\n",
        "        fn=download_video,\n",
        "        inputs=url_input,\n",
        "        outputs=file_output\n",
        "    )\n",
        "\n",
        "    demo.load(fn=cleanup, inputs=None, outputs=None)\n",
        "\n",
        "# Запускаем приложение с публичной ссылкой\n",
        "demo.launch(share=True)"
      ]
    }
  ]
}